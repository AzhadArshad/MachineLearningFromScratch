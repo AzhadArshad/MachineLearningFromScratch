{
 "cells": [
  {
   "cell_type": "markdown",
   "id": "dad05e74",
   "metadata": {},
   "source": [
    "# LINEAR REGRESSION USING SKLEARN"
   ]
  },
  {
   "cell_type": "code",
   "execution_count": 192,
   "id": "c156bdd5",
   "metadata": {},
   "outputs": [],
   "source": [
    "from sklearn.datasets import load_diabetes\n",
    "from sklearn.linear_model import LinearRegression\n",
    "from sklearn.model_selection import train_test_split\n",
    "from sklearn.metrics import mean_squared_error\n",
    "import matplotlib.pyplot as plt"
   ]
  },
  {
   "cell_type": "code",
   "execution_count": 193,
   "id": "3dbf532e",
   "metadata": {},
   "outputs": [],
   "source": [
    "diabetes = load_diabetes()\n",
    "X = diabetes.data\n",
    "y = diabetes.target"
   ]
  },
  {
   "cell_type": "code",
   "execution_count": 194,
   "id": "cdb0dc32",
   "metadata": {},
   "outputs": [
    {
     "name": "stdout",
     "output_type": "stream",
     "text": [
      ".. _diabetes_dataset:\n",
      "\n",
      "Diabetes dataset\n",
      "----------------\n",
      "\n",
      "Ten baseline variables, age, sex, body mass index, average blood\n",
      "pressure, and six blood serum measurements were obtained for each of n =\n",
      "442 diabetes patients, as well as the response of interest, a\n",
      "quantitative measure of disease progression one year after baseline.\n",
      "\n",
      "**Data Set Characteristics:**\n",
      "\n",
      ":Number of Instances: 442\n",
      "\n",
      ":Number of Attributes: First 10 columns are numeric predictive values\n",
      "\n",
      ":Target: Column 11 is a quantitative measure of disease progression one year after baseline\n",
      "\n",
      ":Attribute Information:\n",
      "    - age     age in years\n",
      "    - sex\n",
      "    - bmi     body mass index\n",
      "    - bp      average blood pressure\n",
      "    - s1      tc, total serum cholesterol\n",
      "    - s2      ldl, low-density lipoproteins\n",
      "    - s3      hdl, high-density lipoproteins\n",
      "    - s4      tch, total cholesterol / HDL\n",
      "    - s5      ltg, possibly log of serum triglycerides level\n",
      "    - s6      glu, blood sugar level\n",
      "\n",
      "Note: Each of these 10 feature variables have been mean centered and scaled by the standard deviation times the square root of `n_samples` (i.e. the sum of squares of each column totals 1).\n",
      "\n",
      "Source URL:\n",
      "https://www4.stat.ncsu.edu/~boos/var.select/diabetes.html\n",
      "\n",
      "For more information see:\n",
      "Bradley Efron, Trevor Hastie, Iain Johnstone and Robert Tibshirani (2004) \"Least Angle Regression,\" Annals of Statistics (with discussion), 407-499.\n",
      "(https://web.stanford.edu/~hastie/Papers/LARS/LeastAngle_2002.pdf)\n",
      "\n",
      "(442, 10)\n"
     ]
    }
   ],
   "source": [
    "print(diabetes.DESCR)\n",
    "print(diabetes.data.shape)"
   ]
  },
  {
   "cell_type": "code",
   "execution_count": 195,
   "id": "f5d8b626",
   "metadata": {},
   "outputs": [],
   "source": [
    "X_train, X_test, y_train, y_test = train_test_split(X, y, test_size=0.2, random_state=42)"
   ]
  },
  {
   "cell_type": "code",
   "execution_count": 196,
   "id": "ddeae4f5",
   "metadata": {},
   "outputs": [
    {
     "data": {
      "text/html": [
       "<style>#sk-container-id-6 {\n",
       "  /* Definition of color scheme common for light and dark mode */\n",
       "  --sklearn-color-text: #000;\n",
       "  --sklearn-color-text-muted: #666;\n",
       "  --sklearn-color-line: gray;\n",
       "  /* Definition of color scheme for unfitted estimators */\n",
       "  --sklearn-color-unfitted-level-0: #fff5e6;\n",
       "  --sklearn-color-unfitted-level-1: #f6e4d2;\n",
       "  --sklearn-color-unfitted-level-2: #ffe0b3;\n",
       "  --sklearn-color-unfitted-level-3: chocolate;\n",
       "  /* Definition of color scheme for fitted estimators */\n",
       "  --sklearn-color-fitted-level-0: #f0f8ff;\n",
       "  --sklearn-color-fitted-level-1: #d4ebff;\n",
       "  --sklearn-color-fitted-level-2: #b3dbfd;\n",
       "  --sklearn-color-fitted-level-3: cornflowerblue;\n",
       "\n",
       "  /* Specific color for light theme */\n",
       "  --sklearn-color-text-on-default-background: var(--sg-text-color, var(--theme-code-foreground, var(--jp-content-font-color1, black)));\n",
       "  --sklearn-color-background: var(--sg-background-color, var(--theme-background, var(--jp-layout-color0, white)));\n",
       "  --sklearn-color-border-box: var(--sg-text-color, var(--theme-code-foreground, var(--jp-content-font-color1, black)));\n",
       "  --sklearn-color-icon: #696969;\n",
       "\n",
       "  @media (prefers-color-scheme: dark) {\n",
       "    /* Redefinition of color scheme for dark theme */\n",
       "    --sklearn-color-text-on-default-background: var(--sg-text-color, var(--theme-code-foreground, var(--jp-content-font-color1, white)));\n",
       "    --sklearn-color-background: var(--sg-background-color, var(--theme-background, var(--jp-layout-color0, #111)));\n",
       "    --sklearn-color-border-box: var(--sg-text-color, var(--theme-code-foreground, var(--jp-content-font-color1, white)));\n",
       "    --sklearn-color-icon: #878787;\n",
       "  }\n",
       "}\n",
       "\n",
       "#sk-container-id-6 {\n",
       "  color: var(--sklearn-color-text);\n",
       "}\n",
       "\n",
       "#sk-container-id-6 pre {\n",
       "  padding: 0;\n",
       "}\n",
       "\n",
       "#sk-container-id-6 input.sk-hidden--visually {\n",
       "  border: 0;\n",
       "  clip: rect(1px 1px 1px 1px);\n",
       "  clip: rect(1px, 1px, 1px, 1px);\n",
       "  height: 1px;\n",
       "  margin: -1px;\n",
       "  overflow: hidden;\n",
       "  padding: 0;\n",
       "  position: absolute;\n",
       "  width: 1px;\n",
       "}\n",
       "\n",
       "#sk-container-id-6 div.sk-dashed-wrapped {\n",
       "  border: 1px dashed var(--sklearn-color-line);\n",
       "  margin: 0 0.4em 0.5em 0.4em;\n",
       "  box-sizing: border-box;\n",
       "  padding-bottom: 0.4em;\n",
       "  background-color: var(--sklearn-color-background);\n",
       "}\n",
       "\n",
       "#sk-container-id-6 div.sk-container {\n",
       "  /* jupyter's `normalize.less` sets `[hidden] { display: none; }`\n",
       "     but bootstrap.min.css set `[hidden] { display: none !important; }`\n",
       "     so we also need the `!important` here to be able to override the\n",
       "     default hidden behavior on the sphinx rendered scikit-learn.org.\n",
       "     See: https://github.com/scikit-learn/scikit-learn/issues/21755 */\n",
       "  display: inline-block !important;\n",
       "  position: relative;\n",
       "}\n",
       "\n",
       "#sk-container-id-6 div.sk-text-repr-fallback {\n",
       "  display: none;\n",
       "}\n",
       "\n",
       "div.sk-parallel-item,\n",
       "div.sk-serial,\n",
       "div.sk-item {\n",
       "  /* draw centered vertical line to link estimators */\n",
       "  background-image: linear-gradient(var(--sklearn-color-text-on-default-background), var(--sklearn-color-text-on-default-background));\n",
       "  background-size: 2px 100%;\n",
       "  background-repeat: no-repeat;\n",
       "  background-position: center center;\n",
       "}\n",
       "\n",
       "/* Parallel-specific style estimator block */\n",
       "\n",
       "#sk-container-id-6 div.sk-parallel-item::after {\n",
       "  content: \"\";\n",
       "  width: 100%;\n",
       "  border-bottom: 2px solid var(--sklearn-color-text-on-default-background);\n",
       "  flex-grow: 1;\n",
       "}\n",
       "\n",
       "#sk-container-id-6 div.sk-parallel {\n",
       "  display: flex;\n",
       "  align-items: stretch;\n",
       "  justify-content: center;\n",
       "  background-color: var(--sklearn-color-background);\n",
       "  position: relative;\n",
       "}\n",
       "\n",
       "#sk-container-id-6 div.sk-parallel-item {\n",
       "  display: flex;\n",
       "  flex-direction: column;\n",
       "}\n",
       "\n",
       "#sk-container-id-6 div.sk-parallel-item:first-child::after {\n",
       "  align-self: flex-end;\n",
       "  width: 50%;\n",
       "}\n",
       "\n",
       "#sk-container-id-6 div.sk-parallel-item:last-child::after {\n",
       "  align-self: flex-start;\n",
       "  width: 50%;\n",
       "}\n",
       "\n",
       "#sk-container-id-6 div.sk-parallel-item:only-child::after {\n",
       "  width: 0;\n",
       "}\n",
       "\n",
       "/* Serial-specific style estimator block */\n",
       "\n",
       "#sk-container-id-6 div.sk-serial {\n",
       "  display: flex;\n",
       "  flex-direction: column;\n",
       "  align-items: center;\n",
       "  background-color: var(--sklearn-color-background);\n",
       "  padding-right: 1em;\n",
       "  padding-left: 1em;\n",
       "}\n",
       "\n",
       "\n",
       "/* Toggleable style: style used for estimator/Pipeline/ColumnTransformer box that is\n",
       "clickable and can be expanded/collapsed.\n",
       "- Pipeline and ColumnTransformer use this feature and define the default style\n",
       "- Estimators will overwrite some part of the style using the `sk-estimator` class\n",
       "*/\n",
       "\n",
       "/* Pipeline and ColumnTransformer style (default) */\n",
       "\n",
       "#sk-container-id-6 div.sk-toggleable {\n",
       "  /* Default theme specific background. It is overwritten whether we have a\n",
       "  specific estimator or a Pipeline/ColumnTransformer */\n",
       "  background-color: var(--sklearn-color-background);\n",
       "}\n",
       "\n",
       "/* Toggleable label */\n",
       "#sk-container-id-6 label.sk-toggleable__label {\n",
       "  cursor: pointer;\n",
       "  display: flex;\n",
       "  width: 100%;\n",
       "  margin-bottom: 0;\n",
       "  padding: 0.5em;\n",
       "  box-sizing: border-box;\n",
       "  text-align: center;\n",
       "  align-items: start;\n",
       "  justify-content: space-between;\n",
       "  gap: 0.5em;\n",
       "}\n",
       "\n",
       "#sk-container-id-6 label.sk-toggleable__label .caption {\n",
       "  font-size: 0.6rem;\n",
       "  font-weight: lighter;\n",
       "  color: var(--sklearn-color-text-muted);\n",
       "}\n",
       "\n",
       "#sk-container-id-6 label.sk-toggleable__label-arrow:before {\n",
       "  /* Arrow on the left of the label */\n",
       "  content: \"▸\";\n",
       "  float: left;\n",
       "  margin-right: 0.25em;\n",
       "  color: var(--sklearn-color-icon);\n",
       "}\n",
       "\n",
       "#sk-container-id-6 label.sk-toggleable__label-arrow:hover:before {\n",
       "  color: var(--sklearn-color-text);\n",
       "}\n",
       "\n",
       "/* Toggleable content - dropdown */\n",
       "\n",
       "#sk-container-id-6 div.sk-toggleable__content {\n",
       "  max-height: 0;\n",
       "  max-width: 0;\n",
       "  overflow: hidden;\n",
       "  text-align: left;\n",
       "  /* unfitted */\n",
       "  background-color: var(--sklearn-color-unfitted-level-0);\n",
       "}\n",
       "\n",
       "#sk-container-id-6 div.sk-toggleable__content.fitted {\n",
       "  /* fitted */\n",
       "  background-color: var(--sklearn-color-fitted-level-0);\n",
       "}\n",
       "\n",
       "#sk-container-id-6 div.sk-toggleable__content pre {\n",
       "  margin: 0.2em;\n",
       "  border-radius: 0.25em;\n",
       "  color: var(--sklearn-color-text);\n",
       "  /* unfitted */\n",
       "  background-color: var(--sklearn-color-unfitted-level-0);\n",
       "}\n",
       "\n",
       "#sk-container-id-6 div.sk-toggleable__content.fitted pre {\n",
       "  /* unfitted */\n",
       "  background-color: var(--sklearn-color-fitted-level-0);\n",
       "}\n",
       "\n",
       "#sk-container-id-6 input.sk-toggleable__control:checked~div.sk-toggleable__content {\n",
       "  /* Expand drop-down */\n",
       "  max-height: 200px;\n",
       "  max-width: 100%;\n",
       "  overflow: auto;\n",
       "}\n",
       "\n",
       "#sk-container-id-6 input.sk-toggleable__control:checked~label.sk-toggleable__label-arrow:before {\n",
       "  content: \"▾\";\n",
       "}\n",
       "\n",
       "/* Pipeline/ColumnTransformer-specific style */\n",
       "\n",
       "#sk-container-id-6 div.sk-label input.sk-toggleable__control:checked~label.sk-toggleable__label {\n",
       "  color: var(--sklearn-color-text);\n",
       "  background-color: var(--sklearn-color-unfitted-level-2);\n",
       "}\n",
       "\n",
       "#sk-container-id-6 div.sk-label.fitted input.sk-toggleable__control:checked~label.sk-toggleable__label {\n",
       "  background-color: var(--sklearn-color-fitted-level-2);\n",
       "}\n",
       "\n",
       "/* Estimator-specific style */\n",
       "\n",
       "/* Colorize estimator box */\n",
       "#sk-container-id-6 div.sk-estimator input.sk-toggleable__control:checked~label.sk-toggleable__label {\n",
       "  /* unfitted */\n",
       "  background-color: var(--sklearn-color-unfitted-level-2);\n",
       "}\n",
       "\n",
       "#sk-container-id-6 div.sk-estimator.fitted input.sk-toggleable__control:checked~label.sk-toggleable__label {\n",
       "  /* fitted */\n",
       "  background-color: var(--sklearn-color-fitted-level-2);\n",
       "}\n",
       "\n",
       "#sk-container-id-6 div.sk-label label.sk-toggleable__label,\n",
       "#sk-container-id-6 div.sk-label label {\n",
       "  /* The background is the default theme color */\n",
       "  color: var(--sklearn-color-text-on-default-background);\n",
       "}\n",
       "\n",
       "/* On hover, darken the color of the background */\n",
       "#sk-container-id-6 div.sk-label:hover label.sk-toggleable__label {\n",
       "  color: var(--sklearn-color-text);\n",
       "  background-color: var(--sklearn-color-unfitted-level-2);\n",
       "}\n",
       "\n",
       "/* Label box, darken color on hover, fitted */\n",
       "#sk-container-id-6 div.sk-label.fitted:hover label.sk-toggleable__label.fitted {\n",
       "  color: var(--sklearn-color-text);\n",
       "  background-color: var(--sklearn-color-fitted-level-2);\n",
       "}\n",
       "\n",
       "/* Estimator label */\n",
       "\n",
       "#sk-container-id-6 div.sk-label label {\n",
       "  font-family: monospace;\n",
       "  font-weight: bold;\n",
       "  display: inline-block;\n",
       "  line-height: 1.2em;\n",
       "}\n",
       "\n",
       "#sk-container-id-6 div.sk-label-container {\n",
       "  text-align: center;\n",
       "}\n",
       "\n",
       "/* Estimator-specific */\n",
       "#sk-container-id-6 div.sk-estimator {\n",
       "  font-family: monospace;\n",
       "  border: 1px dotted var(--sklearn-color-border-box);\n",
       "  border-radius: 0.25em;\n",
       "  box-sizing: border-box;\n",
       "  margin-bottom: 0.5em;\n",
       "  /* unfitted */\n",
       "  background-color: var(--sklearn-color-unfitted-level-0);\n",
       "}\n",
       "\n",
       "#sk-container-id-6 div.sk-estimator.fitted {\n",
       "  /* fitted */\n",
       "  background-color: var(--sklearn-color-fitted-level-0);\n",
       "}\n",
       "\n",
       "/* on hover */\n",
       "#sk-container-id-6 div.sk-estimator:hover {\n",
       "  /* unfitted */\n",
       "  background-color: var(--sklearn-color-unfitted-level-2);\n",
       "}\n",
       "\n",
       "#sk-container-id-6 div.sk-estimator.fitted:hover {\n",
       "  /* fitted */\n",
       "  background-color: var(--sklearn-color-fitted-level-2);\n",
       "}\n",
       "\n",
       "/* Specification for estimator info (e.g. \"i\" and \"?\") */\n",
       "\n",
       "/* Common style for \"i\" and \"?\" */\n",
       "\n",
       ".sk-estimator-doc-link,\n",
       "a:link.sk-estimator-doc-link,\n",
       "a:visited.sk-estimator-doc-link {\n",
       "  float: right;\n",
       "  font-size: smaller;\n",
       "  line-height: 1em;\n",
       "  font-family: monospace;\n",
       "  background-color: var(--sklearn-color-background);\n",
       "  border-radius: 1em;\n",
       "  height: 1em;\n",
       "  width: 1em;\n",
       "  text-decoration: none !important;\n",
       "  margin-left: 0.5em;\n",
       "  text-align: center;\n",
       "  /* unfitted */\n",
       "  border: var(--sklearn-color-unfitted-level-1) 1pt solid;\n",
       "  color: var(--sklearn-color-unfitted-level-1);\n",
       "}\n",
       "\n",
       ".sk-estimator-doc-link.fitted,\n",
       "a:link.sk-estimator-doc-link.fitted,\n",
       "a:visited.sk-estimator-doc-link.fitted {\n",
       "  /* fitted */\n",
       "  border: var(--sklearn-color-fitted-level-1) 1pt solid;\n",
       "  color: var(--sklearn-color-fitted-level-1);\n",
       "}\n",
       "\n",
       "/* On hover */\n",
       "div.sk-estimator:hover .sk-estimator-doc-link:hover,\n",
       ".sk-estimator-doc-link:hover,\n",
       "div.sk-label-container:hover .sk-estimator-doc-link:hover,\n",
       ".sk-estimator-doc-link:hover {\n",
       "  /* unfitted */\n",
       "  background-color: var(--sklearn-color-unfitted-level-3);\n",
       "  color: var(--sklearn-color-background);\n",
       "  text-decoration: none;\n",
       "}\n",
       "\n",
       "div.sk-estimator.fitted:hover .sk-estimator-doc-link.fitted:hover,\n",
       ".sk-estimator-doc-link.fitted:hover,\n",
       "div.sk-label-container:hover .sk-estimator-doc-link.fitted:hover,\n",
       ".sk-estimator-doc-link.fitted:hover {\n",
       "  /* fitted */\n",
       "  background-color: var(--sklearn-color-fitted-level-3);\n",
       "  color: var(--sklearn-color-background);\n",
       "  text-decoration: none;\n",
       "}\n",
       "\n",
       "/* Span, style for the box shown on hovering the info icon */\n",
       ".sk-estimator-doc-link span {\n",
       "  display: none;\n",
       "  z-index: 9999;\n",
       "  position: relative;\n",
       "  font-weight: normal;\n",
       "  right: .2ex;\n",
       "  padding: .5ex;\n",
       "  margin: .5ex;\n",
       "  width: min-content;\n",
       "  min-width: 20ex;\n",
       "  max-width: 50ex;\n",
       "  color: var(--sklearn-color-text);\n",
       "  box-shadow: 2pt 2pt 4pt #999;\n",
       "  /* unfitted */\n",
       "  background: var(--sklearn-color-unfitted-level-0);\n",
       "  border: .5pt solid var(--sklearn-color-unfitted-level-3);\n",
       "}\n",
       "\n",
       ".sk-estimator-doc-link.fitted span {\n",
       "  /* fitted */\n",
       "  background: var(--sklearn-color-fitted-level-0);\n",
       "  border: var(--sklearn-color-fitted-level-3);\n",
       "}\n",
       "\n",
       ".sk-estimator-doc-link:hover span {\n",
       "  display: block;\n",
       "}\n",
       "\n",
       "/* \"?\"-specific style due to the `<a>` HTML tag */\n",
       "\n",
       "#sk-container-id-6 a.estimator_doc_link {\n",
       "  float: right;\n",
       "  font-size: 1rem;\n",
       "  line-height: 1em;\n",
       "  font-family: monospace;\n",
       "  background-color: var(--sklearn-color-background);\n",
       "  border-radius: 1rem;\n",
       "  height: 1rem;\n",
       "  width: 1rem;\n",
       "  text-decoration: none;\n",
       "  /* unfitted */\n",
       "  color: var(--sklearn-color-unfitted-level-1);\n",
       "  border: var(--sklearn-color-unfitted-level-1) 1pt solid;\n",
       "}\n",
       "\n",
       "#sk-container-id-6 a.estimator_doc_link.fitted {\n",
       "  /* fitted */\n",
       "  border: var(--sklearn-color-fitted-level-1) 1pt solid;\n",
       "  color: var(--sklearn-color-fitted-level-1);\n",
       "}\n",
       "\n",
       "/* On hover */\n",
       "#sk-container-id-6 a.estimator_doc_link:hover {\n",
       "  /* unfitted */\n",
       "  background-color: var(--sklearn-color-unfitted-level-3);\n",
       "  color: var(--sklearn-color-background);\n",
       "  text-decoration: none;\n",
       "}\n",
       "\n",
       "#sk-container-id-6 a.estimator_doc_link.fitted:hover {\n",
       "  /* fitted */\n",
       "  background-color: var(--sklearn-color-fitted-level-3);\n",
       "}\n",
       "</style><div id=\"sk-container-id-6\" class=\"sk-top-container\"><div class=\"sk-text-repr-fallback\"><pre>LinearRegression()</pre><b>In a Jupyter environment, please rerun this cell to show the HTML representation or trust the notebook. <br />On GitHub, the HTML representation is unable to render, please try loading this page with nbviewer.org.</b></div><div class=\"sk-container\" hidden><div class=\"sk-item\"><div class=\"sk-estimator fitted sk-toggleable\"><input class=\"sk-toggleable__control sk-hidden--visually\" id=\"sk-estimator-id-6\" type=\"checkbox\" checked><label for=\"sk-estimator-id-6\" class=\"sk-toggleable__label fitted sk-toggleable__label-arrow\"><div><div>LinearRegression</div></div><div><a class=\"sk-estimator-doc-link fitted\" rel=\"noreferrer\" target=\"_blank\" href=\"https://scikit-learn.org/1.6/modules/generated/sklearn.linear_model.LinearRegression.html\">?<span>Documentation for LinearRegression</span></a><span class=\"sk-estimator-doc-link fitted\">i<span>Fitted</span></span></div></label><div class=\"sk-toggleable__content fitted\"><pre>LinearRegression()</pre></div> </div></div></div></div>"
      ],
      "text/plain": [
       "LinearRegression()"
      ]
     },
     "execution_count": 196,
     "metadata": {},
     "output_type": "execute_result"
    }
   ],
   "source": [
    "model = LinearRegression()\n",
    "\n",
    "model.fit(X_train, y_train)"
   ]
  },
  {
   "cell_type": "code",
   "execution_count": 197,
   "id": "2b3bb891",
   "metadata": {},
   "outputs": [],
   "source": [
    "predictions = model.predict(X_test)"
   ]
  },
  {
   "cell_type": "code",
   "execution_count": 198,
   "id": "5b7fe156",
   "metadata": {},
   "outputs": [],
   "source": [
    "mse = mean_squared_error(y_test, predictions)"
   ]
  },
  {
   "cell_type": "code",
   "execution_count": 199,
   "id": "c6e7d1ae",
   "metadata": {},
   "outputs": [
    {
     "name": "stdout",
     "output_type": "stream",
     "text": [
      "mse = 2900.1936284934814\n"
     ]
    }
   ],
   "source": [
    "print(\"mse =\", mse)"
   ]
  },
  {
   "cell_type": "code",
   "execution_count": 200,
   "id": "3ddb766b",
   "metadata": {},
   "outputs": [
    {
     "data": {
      "image/png": "[encoded data removed]",
      "text/plain": [
       "<Figure size 640x480 with 1 Axes>"
      ]
     },
     "metadata": {},
     "output_type": "display_data"
    }
   ],
   "source": [
    "plt.scatter(y_test, predictions, color='blue', alpha=0.5)\n",
    "plt.plot([y_test.min(), y_test.max()], [y_test.min(), y_test.max()], color='red', linewidth=2)\n",
    "plt.xlabel(\"Actual Target\")\n",
    "plt.ylabel(\"Predicted Target\")\n",
    "plt.title(\"Actual vs Predicted on Test Set\")\n",
    "plt.grid(True)\n",
    "plt.show()"
   ]
  },
  {
   "cell_type": "markdown",
   "id": "2ee05803",
   "metadata": {},
   "source": [
    "- - - "
   ]
  },
  {
   "cell_type": "markdown",
   "id": "0cfcfe62",
   "metadata": {},
   "source": [
    "# NOW IMPLEMENTING LINEAR REGRESSION FOR SAME DATASET FROM SCRATCH\n"
   ]
  },
  {
   "cell_type": "code",
   "execution_count": 201,
   "id": "53b71a56",
   "metadata": {},
   "outputs": [],
   "source": [
    "import numpy as np # will use numpy"
   ]
  },
  {
   "cell_type": "code",
   "execution_count": 202,
   "id": "28f91410",
   "metadata": {},
   "outputs": [],
   "source": [
    "diabetes = load_diabetes()\n",
    "X = diabetes.data\n",
    "y = diabetes.target\n",
    "# reshape y to make it compatible for matrix operations\n",
    "y = y.reshape(-1, 1)\n",
    "X = np.hstack((np.ones((X.shape[0], 1)), X))  # add bias term\n"
   ]
  },
  {
   "cell_type": "code",
   "execution_count": 203,
   "id": "c1e642de",
   "metadata": {},
   "outputs": [],
   "source": [
    "# Initialize weights \n",
    "np.random.seed(42)\n",
    "w = np.random.randn(X.shape[1], 1)  # shape: (11, 1) — includes bias"
   ]
  },
  {
   "cell_type": "code",
   "execution_count": 204,
   "id": "7ea3ec37",
   "metadata": {},
   "outputs": [],
   "source": [
    "def predict(X, w):\n",
    "    return X @ w  # matrix multiplication\n",
    "\n",
    "def mse(y_pred, y_true):\n",
    "    return np.mean((y_pred - y_true) ** 2)\n",
    "\n",
    "def compute_gradients(X, y, y_pred):\n",
    "    n = X.shape[0]\n",
    "    dw = (2 / n) * X.T @ (y_pred - y)\n",
    "    return dw"
   ]
  },
  {
   "cell_type": "code",
   "execution_count": 205,
   "id": "c5b5ca0d",
   "metadata": {},
   "outputs": [
    {
     "name": "stdout",
     "output_type": "stream",
     "text": [
      "Epoch 0: Loss = 28918.9033\n",
      "Epoch 100: Loss = 5256.7689\n",
      "Epoch 200: Loss = 4769.1851\n",
      "Epoch 300: Loss = 4409.3879\n",
      "Epoch 400: Loss = 4140.3155\n",
      "Epoch 500: Loss = 3936.0348\n",
      "Epoch 600: Loss = 3778.3614\n",
      "Epoch 700: Loss = 3654.5105\n",
      "Epoch 800: Loss = 3555.4631\n",
      "Epoch 900: Loss = 3474.8294\n"
     ]
    }
   ],
   "source": [
    "learning_rate = 0.1\n",
    "epochs = 1000\n",
    "\n",
    "for epoch in range(epochs):\n",
    "    y_pred = predict(X, w)\n",
    "    loss = mse(y_pred, y)\n",
    "    \n",
    "    dw = compute_gradients(X, y, y_pred)\n",
    "    w -= learning_rate * dw\n",
    "\n",
    "    if epoch % 100 == 0:\n",
    "        print(f\"Epoch {epoch}: Loss = {loss:.4f}\")"
   ]
  },
  {
   "cell_type": "code",
   "execution_count": 206,
   "id": "642c4bd1",
   "metadata": {},
   "outputs": [
    {
     "name": "stdout",
     "output_type": "stream",
     "text": [
      "Final weights (including bias):\n",
      "[[ 152.13348416]\n",
      " [  48.07904537]\n",
      " [ -32.40336002]\n",
      " [ 260.02491193]\n",
      " [ 180.50541041]\n",
      " [  35.6269237 ]\n",
      " [  11.95658009]\n",
      " [-147.62827061]\n",
      " [ 133.313806  ]\n",
      " [ 229.94274344]\n",
      " [ 128.09621019]]\n"
     ]
    }
   ],
   "source": [
    "print(\"Final weights (including bias):\")\n",
    "print(w)"
   ]
  },
  {
   "cell_type": "code",
   "execution_count": 207,
   "id": "ec027656",
   "metadata": {},
   "outputs": [
    {
     "name": "stdout",
     "output_type": "stream",
     "text": [
      "Weights: [ 152.13348416   48.07904537  -32.40336002  260.02491193  180.50541041\n",
      "   35.6269237    11.95658009 -147.62827061  133.313806    229.94274344]\n",
      "Bias: 128.09621019113047\n"
     ]
    }
   ],
   "source": [
    "weights = w[:-1]  # all except last\n",
    "bias = w[-1]      # last value\n",
    "print(\"Weights:\", weights.ravel())\n",
    "print(\"Bias:\", bias.item())"
   ]
  },
  {
   "cell_type": "code",
   "execution_count": 208,
   "id": "048f87a7",
   "metadata": {},
   "outputs": [
    {
     "data": {
      "image/png": "[encoded data removed]",
      "text/plain": [
       "<Figure size 800x500 with 1 Axes>"
      ]
     },
     "metadata": {},
     "output_type": "display_data"
    }
   ],
   "source": [
    "\n",
    "y_pred = predict(X, w)\n",
    "\n",
    "plt.figure(figsize=(8, 5))\n",
    "plt.scatter(y, y_pred, alpha=0.6, color='teal')\n",
    "plt.xlabel(\"Actual Target Values\")\n",
    "plt.ylabel(\"Predicted Target Values\")\n",
    "plt.title(\"Predicted vs Actual (Diabetes Dataset)\")\n",
    "plt.plot([y.min(), y.max()], [y.min(), y.max()], 'r--')  # perfect prediction line\n",
    "plt.grid(True)\n",
    "plt.show()"
   ]
  },
  {
   "cell_type": "markdown",
   "id": "7a02c052",
   "metadata": {},
   "source": [
    "- - - -"
   ]
  },
  {
   "cell_type": "markdown",
   "id": "8d34e373",
   "metadata": {},
   "source": [
    "# 🚀 Full Pipeline: Linear Regression with Train/Test Split\n"
   ]
  },
  {
   "cell_type": "code",
   "execution_count": 209,
   "id": "95c93a94",
   "metadata": {},
   "outputs": [],
   "source": [
    "diabetes = load_diabetes()\n",
    "X = diabetes.data            # shape: (442, 10)\n",
    "y = diabetes.target.reshape(-1, 1)  # shape: (442, 1)"
   ]
  },
  {
   "cell_type": "markdown",
   "id": "a1a9d381",
   "metadata": {},
   "source": [
    "🧠 What:\n",
    "\t•\tX contains 442 samples with 10 features (already pre-processed by sklearn).\n",
    "\t•\ty is the target — a continuous value predicting disease progression.\n",
    "\t•\t.reshape(-1, 1) converts the target from shape (442,) to (442, 1) to make it compatible for matrix multiplication.\n",
    "\n",
    "✅ Why:\n",
    "\t•\tLinear regression expects inputs in matrix form. Reshaping ensures dimensions align properly during dot products."
   ]
  },
  {
   "cell_type": "code",
   "execution_count": 210,
   "id": "f5c87688",
   "metadata": {},
   "outputs": [],
   "source": [
    "# Normalize features\n",
    "X_mean = np.mean(X, axis=0)\n",
    "X_std = np.std(X, axis=0)\n",
    "X = (X - X_mean) / X_std"
   ]
  },
  {
   "cell_type": "markdown",
   "id": "feb832ab",
   "metadata": {},
   "source": [
    "🧠 What:\n",
    "\t•\tX_mean is a vector of mean values for each feature.\n",
    "\t•\tX_std is a vector of standard deviations for each feature.\n",
    "\t•\tWe normalize X so that all features have mean 0 and standard deviation 1.\n",
    "\n",
    "✅ Why:\n",
    "\t•\tGradient Descent converges faster when input features are scaled similarly.\n",
    "\t•\tThis prevents features with large values (like age or BMI) from dominating the model."
   ]
  },
  {
   "cell_type": "code",
   "execution_count": 211,
   "id": "511fcdbf",
   "metadata": {},
   "outputs": [],
   "source": [
    "# Add bias (intercept) term manually\n",
    "X = np.hstack([X, np.ones((X.shape[0], 1))])"
   ]
  },
  {
   "cell_type": "markdown",
   "id": "7b77b5ff",
   "metadata": {},
   "source": [
    "🧠 What:\n",
    "\t•\tWe add a column of ones to X → the 11th column now represents the bias term (intercept).\n",
    "\t•\tnp.hstack horizontally stacks this column to the input matrix.\n",
    "\n",
    "✅ Why:\n",
    "\t•\tThis allows us to treat bias b as just another weight. Now we don’t need to separately handle it — it’s built into the model."
   ]
  },
  {
   "cell_type": "code",
   "execution_count": 212,
   "id": "45a55391",
   "metadata": {},
   "outputs": [],
   "source": [
    "np.random.seed(42)  # reproducibility\n",
    "indices = np.random.permutation(X.shape[0])\n",
    "split_index = int(0.8 * X.shape[0])"
   ]
  },
  {
   "cell_type": "markdown",
   "id": "529db2a8",
   "metadata": {},
   "source": [
    "🧠 What:\n",
    "\t•\tnp.random.permutation gives us a shuffled array of row indices.\n",
    "\t•\tsplit_index determines where to split: 80% of 442 = 353 rows.\n",
    "\n",
    "✅ Why:\n",
    "\t•\tWe shuffle the data to ensure random distribution of samples across train/test sets.\n",
    "\t•\tSplitting 80/20 is a common practice to balance training and evaluation."
   ]
  },
  {
   "cell_type": "code",
   "execution_count": 213,
   "id": "bc202057",
   "metadata": {},
   "outputs": [],
   "source": [
    "X_train = X[indices[:split_index]]\n",
    "y_train = y[indices[:split_index]]\n",
    "\n",
    "X_test = X[indices[split_index:]]\n",
    "y_test = y[indices[split_index:]]"
   ]
  },
  {
   "cell_type": "markdown",
   "id": "4d3068f4",
   "metadata": {},
   "source": [
    "🧠 What:\n",
    "\t•\tFirst 353 shuffled samples → training set.\n",
    "\t•\tRemaining 89 samples → test set.\n",
    "\n",
    "✅ Why:\n",
    "\t•\tWe train the model only on training data, and evaluate on unseen test data to check generalization."
   ]
  },
  {
   "cell_type": "code",
   "execution_count": 214,
   "id": "dc80befe",
   "metadata": {},
   "outputs": [],
   "source": [
    "w = np.random.randn(X.shape[1], 1)"
   ]
  },
  {
   "cell_type": "markdown",
   "id": "c57855e4",
   "metadata": {},
   "source": [
    "🧠 What:\n",
    "\t•\tWe initialize weights (including bias) with random values.\n",
    "\t•\tShape is (11, 1) because we have 10 features + 1 bias.\n",
    "\n",
    "✅ Why:\n",
    "\t•\tTraining will adjust these weights through gradient descent to minimize the error."
   ]
  },
  {
   "cell_type": "markdown",
   "id": "06dbc4bd",
   "metadata": {},
   "source": [
    "# Define Functions"
   ]
  },
  {
   "cell_type": "code",
   "execution_count": 215,
   "id": "70643d90",
   "metadata": {},
   "outputs": [],
   "source": [
    "def predict(X, w):\n",
    "    return X @ w"
   ]
  },
  {
   "cell_type": "markdown",
   "id": "5869fc60",
   "metadata": {},
   "source": [
    "🧠 What:\n",
    "\t•\tThis performs matrix multiplication $$ \\hat{y} = Xw $$ , which is the linear regression prediction formula.\n",
    "\n",
    "✅ Why:\n",
    "\t•\tPredicts the target value using current weights for each input."
   ]
  },
  {
   "cell_type": "code",
   "execution_count": 216,
   "id": "fe137066",
   "metadata": {},
   "outputs": [],
   "source": [
    "def mse(y_pred, y_true):\n",
    "    return np.mean((y_pred - y_true) ** 2)"
   ]
  },
  {
   "cell_type": "markdown",
   "id": "7ba6507a",
   "metadata": {},
   "source": [
    "🧠 What:\n",
    "\t•\tComputes Mean Squared Error (MSE): average squared difference between predicted and actual targets.\n",
    "\n",
    "✅ Why:\n",
    "\t•\tMSE is a standard loss function for regression. We aim to minimize it."
   ]
  },
  {
   "cell_type": "code",
   "execution_count": 217,
   "id": "5d694ca0",
   "metadata": {},
   "outputs": [],
   "source": [
    "def compute_gradients(X, y, y_pred):\n",
    "    n = X.shape[0]\n",
    "    dw = (2 / n) * X.T @ (y_pred - y)\n",
    "    return dw"
   ]
  },
  {
   "cell_type": "markdown",
   "id": "024f427f",
   "metadata": {},
   "source": [
    "🧠 What:\n",
    "\t•\tComputes gradients (partial derivatives) of the loss w.r.t weights.\n",
    "\t•\tUses matrix calculus: \n",
    "\t$$ \\frac{2}{n} X^T (Xw - y) $$\n",
    "\n",
    "✅ Why:\n",
    "\t•\tGradients tell us how to update weights to reduce error.\n",
    "\t•\tThis is the core of learning in gradient descent."
   ]
  },
  {
   "cell_type": "markdown",
   "id": "94fc2cad",
   "metadata": {},
   "source": [
    "# Training Loop (Gradient Descent)\n"
   ]
  },
  {
   "cell_type": "code",
   "execution_count": 218,
   "id": "b78b8c9a",
   "metadata": {},
   "outputs": [],
   "source": [
    "learning_rate = 0.01\n",
    "epochs = 1000\n",
    "train_losses = []\n",
    "test_losses = []"
   ]
  },
  {
   "cell_type": "markdown",
   "id": "692a24c4",
   "metadata": {},
   "source": [
    "🧠 What:\n",
    "\t•\tlearning_rate controls how big each weight update is.\n",
    "\t•\tepochs is how many times we go through the training data.\n",
    "\t•\tlosses stores the loss at each epoch for later plotting."
   ]
  },
  {
   "cell_type": "code",
   "execution_count": 219,
   "id": "2cf55db1",
   "metadata": {},
   "outputs": [
    {
     "name": "stdout",
     "output_type": "stream",
     "text": [
      "Epoch 0: Train Loss = 30485.1949, Test Loss = 25687.7577\n",
      "Epoch 100: Train Loss = 3242.4555, Test Loss = 3515.5362\n",
      "Epoch 200: Train Loss = 2795.5610, Test Loss = 3292.4265\n",
      "Epoch 300: Train Loss = 2784.3309, Test Loss = 3313.0316\n",
      "Epoch 400: Train Loss = 2782.5923, Test Loss = 3316.8776\n",
      "Epoch 500: Train Loss = 2781.2676, Test Loss = 3317.9512\n",
      "Epoch 600: Train Loss = 2780.0570, Test Loss = 3318.6727\n",
      "Epoch 700: Train Loss = 2778.9270, Test Loss = 3319.3052\n",
      "Epoch 800: Train Loss = 2777.8629, Test Loss = 3319.8842\n",
      "Epoch 900: Train Loss = 2776.8547, Test Loss = 3320.4245\n"
     ]
    }
   ],
   "source": [
    "for epoch in range(epochs):\n",
    "    # Predict on training set\n",
    "    y_pred_train = predict(X_train, w)\n",
    "    train_loss = mse(y_pred_train, y_train)\n",
    "    train_losses.append(train_loss)\n",
    "    \n",
    "    # Predict on test set\n",
    "    y_pred_test = predict(X_test, w)\n",
    "    test_loss = mse(y_pred_test, y_test)\n",
    "    test_losses.append(test_loss)\n",
    "    \n",
    "    # Compute gradients and update weights\n",
    "    dw = compute_gradients(X_train, y_train, y_pred_train)\n",
    "    w -= learning_rate * dw\n",
    "    \n",
    "    # Optional: Print every 100 epochs\n",
    "    if epoch % 100 == 0:\n",
    "        print(f\"Epoch {epoch}: Train Loss = {train_loss:.4f}, Test Loss = {test_loss:.4f}\")"
   ]
  },
  {
   "cell_type": "markdown",
   "id": "dca6fa2f",
   "metadata": {},
   "source": [
    "🧠 What:\n",
    "\t•\tFor each epoch:\n",
    "\t•\tCompute predictions using current weights\n",
    "\t•\tCompute loss\n",
    "\t•\tCompute gradients\n",
    "\t•\tUpdate weights using: $$ w = w - lr * gradient $$\n",
    "\t•\tPrint progress every 100 steps\n",
    "\n",
    "✅ Why:\n",
    "\t•\tThis loop optimizes the model.\n",
    "\t•\tAt each step, we learn better weights that reduce training error."
   ]
  },
  {
   "cell_type": "code",
   "execution_count": 220,
   "id": "363383ad",
   "metadata": {},
   "outputs": [
    {
     "name": "stdout",
     "output_type": "stream",
     "text": [
      "\n",
      "Test MSE: 3320.9361\n"
     ]
    }
   ],
   "source": [
    "#  Evaluate on Test Set\n",
    "y_pred_test = predict(X_test, w)\n",
    "test_loss = mse(y_pred_test, y_test)\n",
    "print(f\"\\nTest MSE: {test_loss:.4f}\")"
   ]
  },
  {
   "cell_type": "markdown",
   "id": "85903065",
   "metadata": {},
   "source": [
    "🧠 What:\n",
    "\t•\tPredict values on test set using trained weights.\n",
    "\t•\tCompute MSE on test set.\n",
    "\n",
    "✅ Why:\n",
    "\t•\tThis tells us how well the model performs on unseen data — critical for assessing generalization."
   ]
  },
  {
   "cell_type": "code",
   "execution_count": 221,
   "id": "d4482e65",
   "metadata": {},
   "outputs": [
    {
     "data": {
      "image/png": "[encoded data removed]",
      "text/plain": [
       "<Figure size 800x500 with 1 Axes>"
      ]
     },
     "metadata": {},
     "output_type": "display_data"
    }
   ],
   "source": [
    "plt.figure(figsize=(8, 5))\n",
    "plt.scatter(y_test, y_pred_test, alpha=0.6, color='teal')\n",
    "plt.xlabel(\"Actual Target Values (Test)\")\n",
    "plt.ylabel(\"Predicted Target Values\")\n",
    "plt.title(\"Test Predictions vs Actual\")\n",
    "plt.plot([y_test.min(), y_test.max()], [y_test.min(), y_test.max()], 'r--')\n",
    "plt.grid(True)\n",
    "plt.show()"
   ]
  },
  {
   "cell_type": "markdown",
   "id": "ae386153",
   "metadata": {},
   "source": [
    "🧠 What:\n",
    "\t•\tPlot predicted vs actual target values.\n",
    "\t•\tRed dashed line shows ideal (perfect) prediction.\n",
    "\n",
    "✅ Why:\n",
    "\t•\tThis helps visually inspect how close the predictions are to the actual values.\n",
    "\t•\tA good model will have points close to the red line."
   ]
  },
  {
   "cell_type": "code",
   "execution_count": 222,
   "id": "e4c8ff81",
   "metadata": {},
   "outputs": [
    {
     "data": {
      "image/png": "[encoded data removed]",
      "text/plain": [
       "<Figure size 640x480 with 1 Axes>"
      ]
     },
     "metadata": {},
     "output_type": "display_data"
    }
   ],
   "source": [
    "plt.plot(train_losses, label='Training Loss')\n",
    "plt.plot(test_losses, label='Test Loss')\n",
    "plt.xlabel(\"Epochs\")\n",
    "plt.ylabel(\"MSE Loss\")\n",
    "plt.title(\"Learning Curve\")\n",
    "plt.legend()\n",
    "plt.grid(True)\n",
    "plt.show()"
   ]
  }
 ],
 "metadata": {
  "kernelspec": {
   "display_name": "Python 3",
   "language": "python",
   "name": "python3"
  },
  "language_info": {
   "codemirror_mode": {
    "name": "ipython",
    "version": 3
   },
   "file_extension": ".py",
   "mimetype": "text/x-python",
   "name": "python",
   "nbconvert_exporter": "python",
   "pygments_lexer": "ipython3",
   "version": "3.12.1"
  }
 },
 "nbformat": 4,
 "nbformat_minor": 5
}
